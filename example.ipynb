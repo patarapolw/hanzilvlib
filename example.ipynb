{
 "cells": [
  {
   "cell_type": "code",
   "execution_count": 1,
   "metadata": {},
   "outputs": [
    {
     "data": {
      "text/plain": [
       "'你好说什么做了我会想他们在吗工作她怎听不哪里去是人的吃要看对给爱喜欢学生中国大很谁北京来今天时候没知道'"
      ]
     },
     "execution_count": 1,
     "metadata": {},
     "output_type": "execute_result"
    }
   ],
   "source": [
    "from hanzilvlib.level import HanziLevel\n",
    "hlp = HanziLevel()\n",
    "hlp.get_hanzi_list(level=1)"
   ]
  },
  {
   "cell_type": "code",
   "execution_count": 2,
   "metadata": {},
   "outputs": [],
   "source": [
    "from hanzilvlib.dictionary import HanziDict, VocabDict, SentenceDict\n",
    "hanzi_dict = HanziDict()\n",
    "vocab_dict = VocabDict()\n",
    "sentence_dict = SentenceDict()"
   ]
  },
  {
   "cell_type": "code",
   "execution_count": 6,
   "metadata": {},
   "outputs": [
    {
     "name": "stderr",
     "output_type": "stream",
     "text": [
      "Building prefix dict from /Users/patarapolw/PycharmProjects/hanzilvlib/venv/lib/python3.7/site-packages/wordfreq/data/jieba_zh.txt ...\n",
      "Dumping model to file cache /var/folders/rg/1rs2m55j3l59r6k84tt2fc500000gn/T/jieba.u6d2f1d045931490b957a78c6ed4c1434.cache\n",
      "Loading model cost 0.123 seconds.\n",
      "Prefix dict has been built succesfully.\n"
     ]
    },
    {
     "data": {
      "text/plain": [
       "{\n",
       "  \"character\": \"你\",\n",
       "  \"pinyin\": \"ni3\",\n",
       "  \"meaning\": \"you\",\n",
       "  \"heisig\": \"799\",\n",
       "  \"kanji\": \"\",\n",
       "  \"compositions\": [\n",
       "    \"亻\",\n",
       "    \"尔\"\n",
       "  ],\n",
       "  \"supercompositions\": [\n",
       "    \"您\"\n",
       "  ],\n",
       "  \"variants\": [\n",
       "    \"妳\"\n",
       "  ],\n",
       "  \"vocabs\": [\n",
       "    \"你\",\n",
       "    \"你们\",\n",
       "    \"你我\",\n",
       "    \"你等\",\n",
       "    \"去你的\",\n",
       "    \"你好\",\n",
       "    \"迷你\",\n",
       "    \"有人想你\",\n",
       "    \"你死我活\",\n",
       "    \"日你妈\"\n",
       "  ],\n",
       "  \"sentences\": [\n",
       "    \"你好！\",\n",
       "    \"你说什么？\",\n",
       "    \"你做了什么？\",\n",
       "    \"你想我了？\",\n",
       "    \"你会做吗？\",\n",
       "    \"你做什么工作？\",\n",
       "    \"你在听我说吗？\",\n",
       "    \"你在哪里工作？\",\n",
       "    \"你去哪里？\",\n",
       "    \"你想去哪里？\"\n",
       "  ]\n",
       "}"
      ]
     },
     "execution_count": 6,
     "metadata": {},
     "output_type": "execute_result"
    }
   ],
   "source": [
    "hanzi_dict.search_hanzi('你')"
   ]
  },
  {
   "cell_type": "code",
   "execution_count": 7,
   "metadata": {},
   "outputs": [
    {
     "data": {
      "text/plain": [
       "[{\n",
       "  \"traditional\": \"你我\",\n",
       "  \"simplified\": \"你我\",\n",
       "  \"pinyin\": \"ni3 wo3\",\n",
       "  \"english\": \"you and I/everyone/all of us (in society)/we (people in general)\",\n",
       "  \"sentences\": [\n",
       "    \"没有你我无法做到，谢谢。\",\n",
       "    \" 我很想念你--我现在一个朋友也没有。 \",\n",
       "    \" 告诉你，我绝不会为了你而修改它！” \",\n",
       "    \" 我相信你，我肯定你会做好的。 \",\n",
       "    \" 鉴于你我双方的长期贸易关系，我们可以做成这笔交易。 \",\n",
       "    \" 让我来告诉你我的想法好吗？ \",\n",
       "    \" 至于你,我不想跟你打任何交道。 \",\n",
       "    \" 至于你，我想你不会寂寞的。 \",\n",
       "    \" 如果我是你，我就参加会议。 \",\n",
       "    \" 我有一个信息要交代给你，我是活不长的了。 \"\n",
       "  ]\n",
       "}]"
      ]
     },
     "execution_count": 7,
     "metadata": {},
     "output_type": "execute_result"
    }
   ],
   "source": [
    "vocab_dict.search_vocab(\"你我\")"
   ]
  },
  {
   "cell_type": "code",
   "execution_count": 3,
   "metadata": {},
   "outputs": [
    {
     "data": {
      "text/plain": [
       "[{\n",
       "  \"order\": \"472\",\n",
       "  \"sentence\": \"谢谢您。\",\n",
       "  \"pinyin\": \"Xièxie nín.\",\n",
       "  \"english\": \"Thank you!\"\n",
       "},\n",
       " {\n",
       "  \"order\": \"473\",\n",
       "  \"sentence\": \"谢谢您的回答。\",\n",
       "  \"pinyin\": \"Xièxie nín de huídá.\",\n",
       "  \"english\": \"Thanks for your answer. (polite)\"\n",
       "},\n",
       " {\n",
       "  \"order\": \"474\",\n",
       "  \"sentence\": \"谢谢您的帮助。\",\n",
       "  \"pinyin\": \"Xièxie nín de bāngzhù.\",\n",
       "  \"english\": \"Thank you for your help. (polite)\"\n",
       "},\n",
       " {\n",
       "  \"order\": \"475\",\n",
       "  \"sentence\": \"“谢谢你帮了我。”“没什么。”\",\n",
       "  \"pinyin\": \"xièxie nǐ bāng le wǒ. méi shénme.\",\n",
       "  \"english\": \"Thank you for helping me. \\\"It's nothing\\\"\"\n",
       "},\n",
       " {\n",
       "  \"order\": \"476\",\n",
       "  \"sentence\": \"没有你我无法做到，谢谢。\",\n",
       "  \"pinyin\": \"méiyǒu nǐ, wǒ wúfǎ zuòdào, xièxie .\",\n",
       "  \"english\": \"Without you, I couldn't have done it. Thank you.\"\n",
       "},\n",
       " {\n",
       "  \"order\": \"530\",\n",
       "  \"sentence\": \"“等他回来，我要让他给你打电话吗？”“是的，谢谢。”\",\n",
       "  \"pinyin\": \"děng tā huílai, wǒ yào ràng tā gěi nǐ dǎ diànhuà ma? shì de, xièxie.<div>(also ta huilai de shihou)</div>\",\n",
       "  \"english\": \"When he gets back, shall I have him call you? Yes, thanks.\"\n",
       "},\n",
       " {\n",
       "  \"order\": \"1177\",\n",
       "  \"sentence\": \"“你想再来点咖啡吗？”“不，谢谢。我够了。”\",\n",
       "  \"pinyin\": \"nǐ xiǎng zài lái diǎn kāfēi ma? \\\"bù, xièxie. wǒ gòu le.\\\"\",\n",
       "  \"english\": \"&quot;Will you have some more coffee?&quot; &quot;No, thanks. I've had enough.&quot;\"\n",
       "},\n",
       " {\n",
       "  \"order\": \"3631\",\n",
       "  \"sentence\": \"谢谢你的答复。\",\n",
       "  \"pinyin\": \"xièxie nǐ de dáfù .\",\n",
       "  \"english\": \"Thanks for your reply.\"\n",
       "},\n",
       " {\n",
       "  \"order\": \"4372\",\n",
       "  \"sentence\": \"A请问,厕所在哪里?<br/>B在那里。<br/>A谢谢你。<br/>B不用谢。\",\n",
       "  \"pinyin\": \"Qǐngwèn, cèsuǒ zài nǎlǐ?<br />Zài nàlǐ.<br />Xièxiè nǐ.<br />Bù yòng xiè.\",\n",
       "  \"english\": \"Excuse me, where is the restroom?<br />It's there.<br />Thank you.<br />No need to thank me.\"\n",
       "},\n",
       " {\n",
       "  \"order\": \"4999\",\n",
       "  \"sentence\": \"我已经吃饱了，谢谢。\",\n",
       "  \"pinyin\": \"wǒ yǐjīng chībǎo le , xièxie .\",\n",
       "  \"english\": \"I'm already full, thank you. <br /> I've had enough, thank you.\"\n",
       "}]"
      ]
     },
     "execution_count": 3,
     "metadata": {},
     "output_type": "execute_result"
    }
   ],
   "source": [
    "sentence_dict.search_sentence(\"谢谢\")"
   ]
  },
  {
   "cell_type": "code",
   "execution_count": null,
   "metadata": {},
   "outputs": [],
   "source": []
  }
 ],
 "metadata": {
  "kernelspec": {
   "display_name": "Python 3",
   "language": "python",
   "name": "python3"
  },
  "language_info": {
   "codemirror_mode": {
    "name": "ipython",
    "version": 3
   },
   "file_extension": ".py",
   "mimetype": "text/x-python",
   "name": "python",
   "nbconvert_exporter": "python",
   "pygments_lexer": "ipython3",
   "version": "3.7.0"
  }
 },
 "nbformat": 4,
 "nbformat_minor": 2
}
